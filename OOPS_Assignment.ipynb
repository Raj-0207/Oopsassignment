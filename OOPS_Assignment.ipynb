{
  "nbformat": 4,
  "nbformat_minor": 0,
  "metadata": {
    "colab": {
      "provenance": []
    },
    "kernelspec": {
      "name": "python3",
      "display_name": "Python 3"
    },
    "language_info": {
      "name": "python"
    }
  },
  "cells": [
    {
      "cell_type": "markdown",
      "source": [
        "# **Python OOPs Questions**"
      ],
      "metadata": {
        "id": "GCGivkghfkXx"
      }
    },
    {
      "cell_type": "markdown",
      "source": [
        "#Q1 What is Object-Oriented Programming (OOP)\n"
      ],
      "metadata": {
        "id": "qhcu1FaoaDBP"
      }
    },
    {
      "cell_type": "markdown",
      "source": [
        " OOP is a programming paradigm based on the concept of \"objects,\" which can contain data and code to manipulate that data. It emphasizes the use of classes and objects to create reusable and modular code."
      ],
      "metadata": {
        "id": "ZlQHQstKaQje"
      }
    },
    {
      "cell_type": "markdown",
      "source": [
        "#Q2 What is a class in OOP"
      ],
      "metadata": {
        "id": "hClwHJFCaNBe"
      }
    },
    {
      "cell_type": "markdown",
      "source": [
        "A class is a blueprint for creating objects. It defines a set of attributes and methods that the created objects will have."
      ],
      "metadata": {
        "id": "7mTZFSMcag6R"
      }
    },
    {
      "cell_type": "markdown",
      "source": [
        "#Q3 What is an object in OOP1\n",
        "Ans An object is an instance of a class. It is a self-contained entity that consists of both data (attributes) and methods (functions).\n",
        "\n"
      ],
      "metadata": {
        "id": "o4RaQbDDajNI"
      }
    },
    {
      "cell_type": "markdown",
      "source": [
        "# Q4 What is the difference between abstraction and encapsulation?\n",
        "\n",
        "Abstraction is the concept of hiding the complex implementation details and showing only the essential features of an object.\n",
        "Encapsulation is the technique of bundling the data and methods that operate on the data within a single unit (class) and restricting access to some of the object's components."
      ],
      "metadata": {
        "id": "J-GHqh0KbLgU"
      }
    },
    {
      "cell_type": "markdown",
      "source": [
        "# Q5 What are dunder methods in Python?\n",
        "Dunder methods (short for \"double underscore\" methods) are special methods in Python that begin and end with double underscores, like __init__ or __str__. They are used to define the behavior of objects for built-in operations."
      ],
      "metadata": {
        "id": "7uSBYuHAbQr9"
      }
    },
    {
      "cell_type": "markdown",
      "source": [
        "#Q6 Explain the concept of inheritance in OOP.\n",
        "Inheritance allows a class (child class) to inherit attributes and methods from another class (parent class). This promotes code reuse and establishes a relationship between classes."
      ],
      "metadata": {
        "id": "LM2A9OmUbl93"
      }
    },
    {
      "cell_type": "markdown",
      "source": [
        "#Q7 What is polymorphism in OOP?\n",
        "Polymorphism allows objects of different classes to be treated as objects of a common superclass. It enables a single interface to represent different underlying forms (data types)."
      ],
      "metadata": {
        "id": "FdZwOnVMbr4P"
      }
    },
    {
      "cell_type": "markdown",
      "source": [
        "#Q8 How is encapsulation achieved in Python?\n",
        "Encapsulation in Python is achieved using private and protected access modifiers. By prefixing an attribute with a single underscore _, it becomes protected, and with double underscores __, it becomes private."
      ],
      "metadata": {
        "id": "sd65ZDYibvSo"
      }
    },
    {
      "cell_type": "markdown",
      "source": [
        "#Q9 What is a constructor in Python?\n",
        "A constructor is a special method called __init__ that is automatically invoked when an object is created. It initializes the object's attributes."
      ],
      "metadata": {
        "id": "GR5I2U77b635"
      }
    },
    {
      "cell_type": "markdown",
      "source": [
        "#Q10 What are class and static methods in Python?\n",
        "\n",
        "Class methods are methods that are bound to the class and not the instance. They use the @classmethod decorator and take cls as the first parameter.\n",
        "Static methods are methods that do not operate on an instance or class. They use the @staticmethod decorator and do not take self or cls as a parameter.\n"
      ],
      "metadata": {
        "id": "fC9yA8mEb_ep"
      }
    },
    {
      "cell_type": "markdown",
      "source": [
        "#Q11 What is method overloading in Python?\n",
        "Python does not support traditional method overloading. However, you can achieve similar functionality using default arguments or variable-length arguments."
      ],
      "metadata": {
        "id": "FaqvD63acDE5"
      }
    },
    {
      "cell_type": "markdown",
      "source": [
        "#Q12 What is method overriding in OOP?\n",
        "Method overriding occurs when a subclass provides a specific implementation for a method that is already defined in its superclass."
      ],
      "metadata": {
        "id": "KXltpWLrcHUa"
      }
    },
    {
      "cell_type": "markdown",
      "source": [
        "#Q13 What is a property decorator in Python?\n",
        "The @property decorator in Python is used to define getter, setter, and deleter methods for class attributes, allowing you to manage attribute access in a controlled way."
      ],
      "metadata": {
        "id": "GTa9i7nQcK0q"
      }
    },
    {
      "cell_type": "markdown",
      "source": [
        "#Q14 Why is polymorphism important in OOP?\n",
        " Polymorphism is important because it allows for flexibility and the ability to use objects of different types interchangeably, making code more modular and extensible."
      ],
      "metadata": {
        "id": "JoEwpHoXcQ2y"
      }
    },
    {
      "cell_type": "markdown",
      "source": [
        "#Q15 What is an abstract class in Python?\n",
        "An abstract class is a class that cannot be instantiated and is meant to be subclassed. It can contain abstract methods that must be implemented by subclasses. Abstract classes are defined using the abc module."
      ],
      "metadata": {
        "id": "xJqusqtzcYA7"
      }
    },
    {
      "cell_type": "markdown",
      "source": [
        "#Q16 What are the advantages of OOP?\n",
        "\n",
        "Modularity\n",
        "Reusability\n",
        "Scalability\n",
        "Maintainability\n",
        "Abstraction"
      ],
      "metadata": {
        "id": "do3RU16Icci7"
      }
    },
    {
      "cell_type": "markdown",
      "source": [
        "#Q17 What is the difference between a class variable and an instance variable?\n",
        "\n",
        "Class variables are shared among all instances of a class.\n",
        "Instance variables are unique to each instance of a class."
      ],
      "metadata": {
        "id": "8_1GLLGAcgBL"
      }
    },
    {
      "cell_type": "markdown",
      "source": [
        "#Q18 What is multiple inheritance in Python?\n",
        "Multiple inheritance is a feature in Python where a class can inherit attributes and methods from more than one parent class."
      ],
      "metadata": {
        "id": "MF6U_sP_cjZz"
      }
    },
    {
      "cell_type": "markdown",
      "source": [
        "#Q19 Explain the purpose of __str__ and __repr__ methods in Python.\n",
        "\n",
        "__str__ is used to define a human-readable string representation of an object.\n",
        "__repr__ is used to define an unambiguous string representation of an object, often used for debugging."
      ],
      "metadata": {
        "id": "onMp0YC8cnEU"
      }
    },
    {
      "cell_type": "markdown",
      "source": [
        "#Q20 What is the significance of the super() function in Python?\n",
        "The super() function is used to call a method from the parent class, allowing you to access inherited methods that have been overridden in a subclass."
      ],
      "metadata": {
        "id": "PU4xyWXAfC4O"
      }
    },
    {
      "cell_type": "markdown",
      "source": [
        "#Q21 What is the significance of the __del__ method in Python?\n",
        "The __del__ method is a destructor method that is called when an object is about to be destroyed. It allows for cleanup actions before the object is deleted."
      ],
      "metadata": {
        "id": "yHIeH6-RfH5O"
      }
    },
    {
      "cell_type": "markdown",
      "source": [
        "#Q22 What is the difference between @staticmethod and @classmethod in Python?\n",
        "\n",
        "@staticmethod defines a method that does not operate on an instance or class.\n",
        "@classmethod defines a method that operates on the class itself and takes cls as the first parameter."
      ],
      "metadata": {
        "id": "LkDpqOswfNEn"
      }
    },
    {
      "cell_type": "markdown",
      "source": [
        "#Q23 How does polymorphism work in Python with inheritance?\n",
        "Polymorphism in Python allows methods to be used interchangeably across different classes that share a common superclass, enabling objects to be treated as instances of their parent class."
      ],
      "metadata": {
        "id": "3eFHY7UefQ0f"
      }
    },
    {
      "cell_type": "markdown",
      "source": [
        "#Q24 What is method chaining in Python OOP?\n",
        "Method chaining is a technique where multiple methods are called on the same object in a single statement, enhancing readability and conciseness"
      ],
      "metadata": {
        "id": "wC9Cf8TRfX--"
      }
    },
    {
      "cell_type": "markdown",
      "source": [
        "#Q25 What is the purpose of the __call__ method in Python?\n",
        "The __call__ method allows an instance of a class to be called as a function. It can be defined to make objects callable."
      ],
      "metadata": {
        "id": "peZtRcclfaHO"
      }
    },
    {
      "cell_type": "markdown",
      "source": [
        "# **Practical Questions**"
      ],
      "metadata": {
        "id": "7QO2lw4qfghf"
      }
    },
    {
      "cell_type": "markdown",
      "source": [
        "#Q1 Create a parent class Animal with a method speak() that prints a generic message. Create a child class Dog that overrides the speak() method to print \"Bark!\"."
      ],
      "metadata": {
        "id": "uUeP9oqhfxJI"
      }
    },
    {
      "cell_type": "code",
      "source": [
        "class Animal:\n",
        "    def speak(self):\n",
        "        print(\"This animal makes a sound.\")\n",
        "\n",
        "class Dog(Animal):\n",
        "    def speak(self):\n",
        "        print(\"Bark!\")\n",
        "\n",
        "# Creating instances of the classes\n",
        "generic_animal = Animal()\n",
        "dog = Dog()\n",
        "\n",
        "# Calling the speak method\n",
        "generic_animal.speak()  # Output: This animal makes a sound.\n",
        "dog.speak()             # Output: Bark!"
      ],
      "metadata": {
        "colab": {
          "base_uri": "https://localhost:8080/"
        },
        "id": "Zj8vi2n-f7sp",
        "outputId": "fd0790ed-c3c3-486e-b43b-bd33fe5afaef"
      },
      "execution_count": null,
      "outputs": [
        {
          "output_type": "stream",
          "name": "stdout",
          "text": [
            "This animal makes a sound.\n",
            "Bark!\n"
          ]
        }
      ]
    },
    {
      "cell_type": "markdown",
      "source": [
        "The Animal class has a method speak() that prints a generic message.\n",
        "The Dog class inherits from Animal and overrides the speak() method to print \"Bark!\"."
      ],
      "metadata": {
        "id": "5_nyddXUgCZp"
      }
    },
    {
      "cell_type": "markdown",
      "source": [
        "#Q2 Write a program to create an abstract class Shape with a method area(). Derive classes Circle and Rectangle from it and implement the area() method in both."
      ],
      "metadata": {
        "id": "awl5SlG4gFPs"
      }
    },
    {
      "cell_type": "code",
      "source": [
        "from abc import ABC, abstractmethod\n",
        "import math\n",
        "\n",
        "class Shape(ABC):\n",
        "    @abstractmethod\n",
        "    def area(self):\n",
        "        pass\n",
        "\n",
        "class Circle(Shape):\n",
        "    def __init__(self, radius):\n",
        "        self.radius = radius\n",
        "\n",
        "    def area(self):\n",
        "        return math.pi * self.radius ** 2\n",
        "\n",
        "class Rectangle(Shape):\n",
        "    def __init__(self, width, height):\n",
        "        self.width = width\n",
        "        self.height = height\n",
        "\n",
        "    def area(self):\n",
        "        return self.width * self.height\n",
        "\n",
        "# Creating instances of Circle and Rectangle\n",
        "circle = Circle(5)\n",
        "rectangle = Rectangle(4, 6)\n",
        "\n",
        "# Calculating and printing the area of the shapes\n",
        "print(f\"Area of the circle: {circle.area()}\")  # Output: Area of the circle: 78.53981633974483\n",
        "print(f\"Area of the rectangle: {rectangle.area()}\")  # Output: Area of the rectangle: 24"
      ],
      "metadata": {
        "colab": {
          "base_uri": "https://localhost:8080/"
        },
        "id": "JKtACQYaiNTH",
        "outputId": "c713b1a1-675a-47be-8734-03a1f91da6a7"
      },
      "execution_count": null,
      "outputs": [
        {
          "output_type": "stream",
          "name": "stdout",
          "text": [
            "Area of the circle: 78.53981633974483\n",
            "Area of the rectangle: 24\n"
          ]
        }
      ]
    },
    {
      "cell_type": "markdown",
      "source": [
        "The Shape class is an abstract class with an abstract method area(). The @abstractmethod decorator ensures that any subclass must implement this method.\n",
        "The Circle class inherits from Shape and implements the area() method to calculate the area of a circle.\n",
        "The Rectangle class inherits from Shape and implements the area() method to calculate the area of a rectangle."
      ],
      "metadata": {
        "id": "8Ce_gL1kiOu-"
      }
    },
    {
      "cell_type": "markdown",
      "source": [
        "#Q3 Implement a multi-level inheritance scenario where a class Vehicle has an attribute type. Derive a class Car and further derive a class ElectricCar that adds a battery attribute."
      ],
      "metadata": {
        "id": "4CGbVYj6iSS_"
      }
    },
    {
      "cell_type": "code",
      "source": [
        "class Vehicle:\n",
        "    def __init__(self, vehicle_type):\n",
        "        self.type = vehicle_type\n",
        "\n",
        "class Car(Vehicle):\n",
        "    def __init__(self, vehicle_type, brand):\n",
        "        super().__init__(vehicle_type)\n",
        "        self.brand = brand\n",
        "\n",
        "class ElectricCar(Car):\n",
        "    def __init__(self, vehicle_type, brand, battery_capacity):\n",
        "        super().__init__(vehicle_type, brand)\n",
        "        self.battery = battery_capacity\n",
        "\n",
        "# Creating an instance of ElectricCar\n",
        "my_electric_car = ElectricCar(\"Electric\", \"Tesla\", \"100 kWh\")\n",
        "\n",
        "# Printing the attributes\n",
        "print(f\"Type: {my_electric_car.type}\")  # Output: Type: Electric\n",
        "print(f\"Brand: {my_electric_car.brand}\")  # Output: Brand: Tesla\n",
        "print(f\"Battery Capacity: {my_electric_car.battery}\")  # Output: Battery Capacity: 100 kWh"
      ],
      "metadata": {
        "colab": {
          "base_uri": "https://localhost:8080/"
        },
        "id": "hfjYl22libX3",
        "outputId": "0b73b7d0-fd0c-4b88-ab2f-912b3730d67d"
      },
      "execution_count": null,
      "outputs": [
        {
          "output_type": "stream",
          "name": "stdout",
          "text": [
            "Type: Electric\n",
            "Brand: Tesla\n",
            "Battery Capacity: 100 kWh\n"
          ]
        }
      ]
    },
    {
      "cell_type": "markdown",
      "source": [
        "The Vehicle class has an attribute type.\n",
        "The Car class inherits from Vehicle and adds an attribute brand.\n",
        "The ElectricCar class inherits from Car and adds an attribute battery."
      ],
      "metadata": {
        "id": "8goTUVHYisVf"
      }
    },
    {
      "cell_type": "markdown",
      "source": [
        "#Q4 Implement a multi-level inheritance scenario where a class Vehicle has an attribute type. Derive a class Car and further derive a class ElectricCar that adds a battery attribute."
      ],
      "metadata": {
        "id": "aRkECd5qivYH"
      }
    },
    {
      "cell_type": "code",
      "source": [
        "class Vehicle:\n",
        "    def __init__(self, vehicle_type):\n",
        "        self.type = vehicle_type\n",
        "\n",
        "class Car(Vehicle):\n",
        "    def __init__(self, vehicle_type, brand):\n",
        "        super().__init__(vehicle_type)\n",
        "        self.brand = brand\n",
        "\n",
        "class ElectricCar(Car):\n",
        "    def __init__(self, vehicle_type, brand, battery_capacity):\n",
        "        super().__init__(vehicle_type, brand)\n",
        "        self.battery = battery_capacity\n",
        "\n",
        "# Creating an instance of ElectricCar\n",
        "my_electric_car = ElectricCar(\"Electric\", \"Tesla\", \"100 kWh\")\n",
        "\n",
        "# Printing the attributes\n",
        "print(f\"Type: {my_electric_car.type}\")  # Output: Type: Electric\n",
        "print(f\"Brand: {my_electric_car.brand}\")  # Output: Brand: Tesla\n",
        "print(f\"Battery Capacity: {my_electric_car.battery}\")  # Output: Battery Capacity: 100 kWh"
      ],
      "metadata": {
        "colab": {
          "base_uri": "https://localhost:8080/"
        },
        "id": "eChDYOKsi9DQ",
        "outputId": "095be980-0602-454a-fdef-4f0af75b76a1"
      },
      "execution_count": null,
      "outputs": [
        {
          "output_type": "stream",
          "name": "stdout",
          "text": [
            "Type: Electric\n",
            "Brand: Tesla\n",
            "Battery Capacity: 100 kWh\n"
          ]
        }
      ]
    },
    {
      "cell_type": "markdown",
      "source": [
        "#Q5 Write a program to demonstrate encapsulation by creating a class BankAccount with private attributes balance and methods to deposit, withdraw, and check balance."
      ],
      "metadata": {
        "id": "Cn9QZX30jGvI"
      }
    },
    {
      "cell_type": "code",
      "source": [
        "class BankAccount:\n",
        "    def __init__(self, initial_balance=0):\n",
        "        self.__balance = initial_balance\n",
        "\n",
        "    def deposit(self, amount):\n",
        "        if amount > 0:\n",
        "            self.__balance += amount\n",
        "\n",
        "    def withdraw(self, amount):\n",
        "        if 0 < amount <= self.__balance:\n",
        "            self.__balance -= amount\n",
        "\n",
        "    def check_balance(self):\n",
        "        return self.__balance\n",
        "\n",
        "# Creating an instance of BankAccount\n",
        "account = BankAccount(100)\n",
        "account.deposit(50)\n",
        "account.withdraw(30)\n",
        "print(f\"Balance: {account.check_balance()}\")  # Output: Balance: 120"
      ],
      "metadata": {
        "colab": {
          "base_uri": "https://localhost:8080/"
        },
        "id": "D9eJcSeDjKMo",
        "outputId": "e082738f-1230-4bb0-c5bf-008d585f8cff"
      },
      "execution_count": null,
      "outputs": [
        {
          "output_type": "stream",
          "name": "stdout",
          "text": [
            "Balance: 120\n"
          ]
        }
      ]
    },
    {
      "cell_type": "markdown",
      "source": [
        "#Q6. Demonstrate runtime polymorphism using a method play() in a base class Instrument. Derive classes Guitar and Piano that implement their own version of play()."
      ],
      "metadata": {
        "id": "B7f8ON0ojWMx"
      }
    },
    {
      "cell_type": "code",
      "source": [
        "class Instrument:\n",
        "    def play(self):\n",
        "        pass\n",
        "\n",
        "class Guitar(Instrument):\n",
        "    def play(self):\n",
        "        print(\"Playing the guitar.\")\n",
        "\n",
        "class Piano(Instrument):\n",
        "    def play(self):\n",
        "        print(\"Playing the piano.\")\n",
        "\n",
        "# Demonstrating runtime polymorphism\n",
        "instruments = [Guitar(), Piano()]\n",
        "for instrument in instruments:\n",
        "    instrument.play()"
      ],
      "metadata": {
        "colab": {
          "base_uri": "https://localhost:8080/"
        },
        "id": "IxcAd4KijaAw",
        "outputId": "c8cf74e1-25a7-4792-cbe4-4b7030317bf7"
      },
      "execution_count": null,
      "outputs": [
        {
          "output_type": "stream",
          "name": "stdout",
          "text": [
            "Playing the guitar.\n",
            "Playing the piano.\n"
          ]
        }
      ]
    },
    {
      "cell_type": "markdown",
      "source": [
        "#Q7 Create a class MathOperations with a class method add_numbers() to add two numbers and a static method subtract_numbers() to subtract two numbers."
      ],
      "metadata": {
        "id": "xmlBEO8yjf-p"
      }
    },
    {
      "cell_type": "code",
      "source": [
        "class MathOperations:\n",
        "    @classmethod\n",
        "    def add_numbers(cls, a, b):\n",
        "        return a + b\n",
        "\n",
        "    @staticmethod\n",
        "    def subtract_numbers(a, b):\n",
        "        return a - b\n",
        "\n",
        "# Using the methods\n",
        "print(MathOperations.add_numbers(5, 3))  # Output: 8\n",
        "print(MathOperations.subtract_numbers(5, 3))  # Output: 2"
      ],
      "metadata": {
        "colab": {
          "base_uri": "https://localhost:8080/"
        },
        "id": "vmLvYhbHjk1R",
        "outputId": "5bf3cb7d-1608-45f3-fdc6-03df881ed2fc"
      },
      "execution_count": null,
      "outputs": [
        {
          "output_type": "stream",
          "name": "stdout",
          "text": [
            "8\n",
            "2\n"
          ]
        }
      ]
    },
    {
      "cell_type": "markdown",
      "source": [
        "#Q8. Implement a class Person with a class method to count the total number of persons created."
      ],
      "metadata": {
        "id": "FB_OeBn5jrYB"
      }
    },
    {
      "cell_type": "code",
      "source": [
        "class Person:\n",
        "    count = 0\n",
        "\n",
        "    def __init__(self, name):\n",
        "        self.name = name\n",
        "        Person.count += 1\n",
        "\n",
        "    @classmethod\n",
        "    def total_persons(cls):\n",
        "        return cls.count\n",
        "\n",
        "# Creating instances of Person\n",
        "p1 = Person(\"Alice\")\n",
        "p2 = Person(\"Bob\")\n",
        "print(f\"Total persons: {Person.total_persons()}\")  # Output: Total persons: 2"
      ],
      "metadata": {
        "colab": {
          "base_uri": "https://localhost:8080/"
        },
        "id": "MdfnqwD9jvzp",
        "outputId": "3f928b6c-9aca-406f-abc3-3c95d1da17b6"
      },
      "execution_count": null,
      "outputs": [
        {
          "output_type": "stream",
          "name": "stdout",
          "text": [
            "Total persons: 2\n"
          ]
        }
      ]
    },
    {
      "cell_type": "markdown",
      "source": [
        "#Q9. Write a class Fraction with attributes numerator and denominator. Override the str method to display the fraction as \"numerator/denominator\"."
      ],
      "metadata": {
        "id": "16KZvSlyjvWp"
      }
    },
    {
      "cell_type": "code",
      "source": [
        "class Fraction:\n",
        "    def __init__(self, numerator, denominator):\n",
        "        self.numerator = numerator\n",
        "        self.denominator = denominator\n",
        "\n",
        "    def __str__(self):\n",
        "        return f\"{self.numerator}/{self.denominator}\"\n",
        "\n",
        "# Creating an instance of Fraction\n",
        "fraction = Fraction(3, 4)\n",
        "print(fraction)  # Output: 3/4"
      ],
      "metadata": {
        "colab": {
          "base_uri": "https://localhost:8080/"
        },
        "id": "moHUOWB-j7H5",
        "outputId": "029c8482-d7cd-429a-d7b9-b1d3f1660cc9"
      },
      "execution_count": null,
      "outputs": [
        {
          "output_type": "stream",
          "name": "stdout",
          "text": [
            "3/4\n"
          ]
        }
      ]
    },
    {
      "cell_type": "markdown",
      "source": [
        "#Q10 Demonstrate operator overloading by creating a class Vector and overriding the add method to add two vectors."
      ],
      "metadata": {
        "id": "r1ea4LrXj9E6"
      }
    },
    {
      "cell_type": "code",
      "source": [
        "class Vector:\n",
        "    def __init__(self, x, y):\n",
        "        self.x = x\n",
        "        self.y = y\n",
        "\n",
        "    def __add__(self, other):\n",
        "        return Vector(self.x + other.x, self.y + other.y)\n",
        "\n",
        "    def __str__(self):\n",
        "        return f\"Vector({self.x}, {self.y})\"\n",
        "\n",
        "# Creating instances of Vector\n",
        "v1 = Vector(1, 2)\n",
        "v2 = Vector(3, 4)\n",
        "v3 = v1 + v2\n",
        "print(v3)  # Output: Vector(4, 6)"
      ],
      "metadata": {
        "colab": {
          "base_uri": "https://localhost:8080/"
        },
        "id": "KHwouoPckAUh",
        "outputId": "b5fc0ef6-5aa4-45ef-9006-08b3a9a69360"
      },
      "execution_count": null,
      "outputs": [
        {
          "output_type": "stream",
          "name": "stdout",
          "text": [
            "Vector(4, 6)\n"
          ]
        }
      ]
    },
    {
      "cell_type": "markdown",
      "source": [
        "#Q11 Create a class Person with attributes name and age. Add a method greet() that prints \"Hello, my name is {name} and I am {age} years old.\""
      ],
      "metadata": {
        "id": "hohQzHC_kDFh"
      }
    },
    {
      "cell_type": "code",
      "source": [
        "class Person:\n",
        "    def __init__(self, name, age):\n",
        "        self.name = name\n",
        "        self.age = age\n",
        "\n",
        "    def greet(self):\n",
        "        print(f\"Hello, my name is {self.name} and I am {self.age} years old.\")\n",
        "\n",
        "# Creating an instance of Person\n",
        "person = Person(\"Alice\", 30)\n",
        "person.greet()  # Output: Hello, my name is Alice and I am 30 years old."
      ],
      "metadata": {
        "colab": {
          "base_uri": "https://localhost:8080/"
        },
        "id": "USBmrbwkkHPy",
        "outputId": "c6c4c51e-dd6c-4c71-deb5-4dcd9f0d85b3"
      },
      "execution_count": null,
      "outputs": [
        {
          "output_type": "stream",
          "name": "stdout",
          "text": [
            "Hello, my name is Alice and I am 30 years old.\n"
          ]
        }
      ]
    },
    {
      "cell_type": "markdown",
      "source": [
        "#Q12 Implement a class Student with attributes name and grades. Create a method average_grade() to compute the average of the grades."
      ],
      "metadata": {
        "id": "ZhQvhCuCkJfa"
      }
    },
    {
      "cell_type": "code",
      "source": [
        "class Student:\n",
        "    def __init__(self, name, grades):\n",
        "        self.name = name\n",
        "        self.grades = grades\n",
        "\n",
        "    def average_grade(self):\n",
        "        return sum(self.grades) / len(self.grades)\n",
        "\n",
        "# Creating an instance of Student\n",
        "student = Student(\"Alice\", [90, 80, 85, 95])\n",
        "print(f\"Average grade: {student.average_grade()}\")  # Output: Average grade: 87.5"
      ],
      "metadata": {
        "colab": {
          "base_uri": "https://localhost:8080/"
        },
        "id": "zzBBT3oLkYyi",
        "outputId": "1b769114-21de-4702-ab66-5e259cf5f408"
      },
      "execution_count": null,
      "outputs": [
        {
          "output_type": "stream",
          "name": "stdout",
          "text": [
            "Average grade: 87.5\n"
          ]
        }
      ]
    },
    {
      "cell_type": "markdown",
      "source": [
        "#Q13 Create a class Rectangle with methods set_dimensions() to set the dimensions and area() to calculate the area."
      ],
      "metadata": {
        "id": "Z8dr3BBOkbn6"
      }
    },
    {
      "cell_type": "code",
      "source": [
        "class Rectangle:\n",
        "    def __init__(self):\n",
        "        self.width = 0\n",
        "        self.height = 0\n",
        "\n",
        "    def set_dimensions(self, width, height):\n",
        "        self.width = width\n",
        "        self.height = height\n",
        "\n",
        "    def area(self):\n",
        "        return self.width * self.height\n",
        "\n",
        "# Creating an instance of Rectangle\n",
        "rectangle = Rectangle()\n",
        "rectangle.set_dimensions(4, 5)\n",
        "print(f\"Area: {rectangle.area()}\")  # Output: Area: 20"
      ],
      "metadata": {
        "colab": {
          "base_uri": "https://localhost:8080/"
        },
        "id": "lhNxeeN_kXIq",
        "outputId": "51fe298e-4df0-48a1-8e40-5dc59eca9292"
      },
      "execution_count": null,
      "outputs": [
        {
          "output_type": "stream",
          "name": "stdout",
          "text": [
            "Area: 20\n"
          ]
        }
      ]
    },
    {
      "cell_type": "markdown",
      "source": [
        "#Q14 Create a class Employee with a method calculate_salary() that computes the salary based on hours worked and hourly rate. Create a derived class Manager that adds a bonus to the salary."
      ],
      "metadata": {
        "id": "qEOUIAVhkl0S"
      }
    },
    {
      "cell_type": "code",
      "source": [
        "class Employee:\n",
        "    def __init__(self, hours_worked, hourly_rate):\n",
        "        self.hours_worked = hours_worked\n",
        "        self.hourly_rate = hourly_rate\n",
        "\n",
        "    def calculate_salary(self):\n",
        "        return self.hours_worked * self.hourly_rate\n",
        "\n",
        "class Manager(Employee):\n",
        "    def __init__(self, hours_worked, hourly_rate, bonus):\n",
        "        super().__init__(hours_worked, hourly_rate)\n",
        "        self.bonus = bonus\n",
        "\n",
        "    def calculate_salary(self):\n",
        "        return super().calculate_salary() + self.bonus\n",
        "\n",
        "# Creating an instance of Manager\n",
        "manager = Manager(40, 50, 500)\n",
        "print(f\"Salary: {manager.calculate_salary()}\")  # Output: Salary: 2500"
      ],
      "metadata": {
        "colab": {
          "base_uri": "https://localhost:8080/"
        },
        "id": "GT6kCieckrQD",
        "outputId": "1f7ee937-8a27-44c3-eece-b71925975ea6"
      },
      "execution_count": null,
      "outputs": [
        {
          "output_type": "stream",
          "name": "stdout",
          "text": [
            "Salary: 2500\n"
          ]
        }
      ]
    },
    {
      "cell_type": "markdown",
      "source": [
        "#Q15 Create a class Product with attributes name, price, and quantity. Implement a method total_price() that calculates the total price of the product."
      ],
      "metadata": {
        "id": "cBwM8qO-kzjq"
      }
    },
    {
      "cell_type": "code",
      "source": [
        "class Product:\n",
        "    def __init__(self, name, price, quantity):\n",
        "        self.name = name\n",
        "        self.price = price\n",
        "        self.quantity = quantity\n",
        "\n",
        "    def total_price(self):\n",
        "        return self.price * self.quantity\n",
        "\n",
        "# Creating an instance of Product\n",
        "product = Product(\"Laptop\", 1000, 3)\n",
        "print(f\"Total price: {product.total_price()}\")  # Output: Total price: 3000"
      ],
      "metadata": {
        "colab": {
          "base_uri": "https://localhost:8080/"
        },
        "id": "A4LEuBIBk3by",
        "outputId": "e670db4b-a328-4cea-8a55-71d44b33a97c"
      },
      "execution_count": null,
      "outputs": [
        {
          "output_type": "stream",
          "name": "stdout",
          "text": [
            "Total price: 3000\n"
          ]
        }
      ]
    },
    {
      "cell_type": "markdown",
      "source": [
        "#Q16 Create a class Animal with an abstract method sound(). Create two derived classes Cow and Sheep that implement the sound() method."
      ],
      "metadata": {
        "id": "rw21BDG6k87r"
      }
    },
    {
      "cell_type": "code",
      "source": [
        "from abc import ABC, abstractmethod\n",
        "\n",
        "class Animal(ABC):\n",
        "    @abstractmethod\n",
        "    def sound(self):\n",
        "        pass\n",
        "\n",
        "class Cow(Animal):\n",
        "    def sound(self):\n",
        "        print(\"Moo\")\n",
        "\n",
        "class Sheep(Animal):\n",
        "    def sound(self):\n",
        "        print(\"Baa\")\n",
        "\n",
        "# Creating instances of Cow and Sheep\n",
        "cow = Cow()\n",
        "sheep = Sheep()\n",
        "cow.sound()  # Output: Moo\n",
        "sheep.sound()  # Output: Baa"
      ],
      "metadata": {
        "colab": {
          "base_uri": "https://localhost:8080/"
        },
        "id": "csEXb1qDk60G",
        "outputId": "1932a2e1-14b0-4fdc-ed58-662afb04d527"
      },
      "execution_count": null,
      "outputs": [
        {
          "output_type": "stream",
          "name": "stdout",
          "text": [
            "Moo\n",
            "Baa\n"
          ]
        }
      ]
    },
    {
      "cell_type": "markdown",
      "source": [
        "#Q17 Create a class Book with attributes title, author, and year_published. Add a method get_book_info() that returns a formatted string with the book's details."
      ],
      "metadata": {
        "id": "T-FafByslDWD"
      }
    },
    {
      "cell_type": "code",
      "source": [
        "class Book:\n",
        "    def __init__(self, title, author, year_published):\n",
        "        self.title = title\n",
        "        self.author = author\n",
        "        self.year_published = year_published\n",
        "\n",
        "    def get_book_info(self):\n",
        "        return f\"'{self.title}' by {self.author}, published in {self.year_published}\"\n",
        "\n",
        "# Creating an instance of Book\n",
        "book = Book(\"1984\", \"George Orwell\", 1949)\n",
        "print(book.get_book_info())  # Output: '1984' by George Orwell, published in 1949"
      ],
      "metadata": {
        "colab": {
          "base_uri": "https://localhost:8080/"
        },
        "id": "wOPPfQ1nlHSL",
        "outputId": "2b6cf5e6-6769-4a64-ed4f-e148b18977a2"
      },
      "execution_count": null,
      "outputs": [
        {
          "output_type": "stream",
          "name": "stdout",
          "text": [
            "'1984' by George Orwell, published in 1949\n"
          ]
        }
      ]
    },
    {
      "cell_type": "markdown",
      "source": [
        "#Q18 Create a class House with attributes address and price. Create a derived class Mansion that adds an attribute number_of_rooms."
      ],
      "metadata": {
        "id": "f_O8qMSflJub"
      }
    },
    {
      "cell_type": "code",
      "source": [
        "class House:\n",
        "    def __init__(self, address, price):\n",
        "        self.address = address\n",
        "        self.price = price\n",
        "\n",
        "class Mansion(House):\n",
        "    def __init__(self, address, price, number_of_rooms):\n",
        "        super().__init__(address, price)\n",
        "        self.number_of_rooms = number_of_rooms\n",
        "\n",
        "# Creating an instance of Mansion\n",
        "mansion = Mansion(\"123 Luxury St\", 5000000, 10)\n",
        "print(f\"Address: {mansion.address}\")  # Output: Address: 123 Luxury St\n",
        "print(f\"Price: {mansion.price}\")  # Output: Price: 5000000\n",
        "print(f\"Number of Rooms: {mansion.number_of_rooms}\")  # Output: Number of Rooms: 10"
      ],
      "metadata": {
        "colab": {
          "base_uri": "https://localhost:8080/"
        },
        "id": "YVNOJSMqlM7D",
        "outputId": "85b879c5-df65-4bed-f632-d31ae54f0421"
      },
      "execution_count": null,
      "outputs": [
        {
          "output_type": "stream",
          "name": "stdout",
          "text": [
            "Address: 123 Luxury St\n",
            "Price: 5000000\n",
            "Number of Rooms: 10\n"
          ]
        }
      ]
    }
  ]
}